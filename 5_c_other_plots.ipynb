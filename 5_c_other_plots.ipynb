{
 "cells": [
  {
   "cell_type": "markdown",
   "metadata": {},
   "source": [
    "\n",
    "The next question we will try to visualise is \"what are the average rainfalls in of high rainfall days in lithgow in March\".  The right tool for this job is the \"box plot\" (we've set 20mm as a high rainfall amount). "
   ]
  },
  {
   "cell_type": "code",
   "execution_count": null,
   "metadata": {},
   "outputs": [],
   "source": [
    "march = rainfall[\"Month\"] == 3\n",
    "high_rainfall_day = rainfall[\"Rainfall amount (millimetres)\"] > 20\n",
    "rainfall[ march & high_rainfall_day][\"Rainfall amount (millimetres)\"].plot(kind=\"box\")\n"
   ]
  },
  {
   "cell_type": "markdown",
   "metadata": {},
   "source": [
    "# Scatter plots can't work on Series\n",
    "\n",
    "Because they compare one column to another.  Thus this is our first look at plotting directly on the dataframe."
   ]
  },
  {
   "cell_type": "code",
   "execution_count": null,
   "metadata": {},
   "outputs": [],
   "source": [
    "iris = pd.read_csv(\"data/iris.csv\")\n",
    "\n",
    "iris.plot(kind=\"scatter\", x=\"sepal length\", y=\"sepal width\")"
   ]
  },
  {
   "cell_type": "markdown",
   "metadata": {},
   "source": [
    "To be honest, I am a little disapointed.  I was expecting a correlation.  Perhaps I should to it per-species?"
   ]
  },
  {
   "cell_type": "code",
   "execution_count": null,
   "metadata": {},
   "outputs": [],
   "source": [
    "just_setosa = iris[\"class\"] == \"Iris-setosa\"\n",
    "\n",
    "iris[just_setosa].plot(kind=\"scatter\", x=\"sepal length\", y=\"sepal width\", label=\"Iris-Setosa\")"
   ]
  },
  {
   "cell_type": "markdown",
   "metadata": {},
   "source": [
    "much better!\n",
    "\n",
    "# Exercise - disposal vs handballs\n",
    "\n",
    "Plot \"Handballs\" vs \"Disposals\" from the `data/afl/stats.csv` file as a scatter plot.  Your plot will show you that I chose a bad correlation to look for.  If you follow AFL you will know why :)"
   ]
  },
  {
   "cell_type": "code",
   "execution_count": null,
   "metadata": {},
   "outputs": [],
   "source": [
    "# put solution here"
   ]
  },
  {
   "cell_type": "markdown",
   "metadata": {},
   "source": [
    "Sometimes a scatter plot gets crowded.  A \"hexbin\" will combine close dots and make a colour to indicate how represented each \"bin\" is"
   ]
  },
  {
   "cell_type": "code",
   "execution_count": null,
   "metadata": {},
   "outputs": [],
   "source": [
    "afl = pd.read_csv(\"data/afl/stats.csv\")\n",
    "\n",
    "afl.plot(kind=\"hexbin\", x=\"Contested Possessions\", y=\"Uncontested Possessions\")"
   ]
  },
  {
   "cell_type": "markdown",
   "metadata": {},
   "source": [
    "# Exercise - hexbin instead\n",
    "\n",
    "Redo the last scatter plot (disposals vs handballs) as a hexbin.  The fact that it is an invalid correlation is no longer visible in the plot!  Take this as a lesson on the importance of plot-type."
   ]
  },
  {
   "cell_type": "code",
   "execution_count": null,
   "metadata": {},
   "outputs": [],
   "source": [
    "# put solution here"
   ]
  },
  {
   "cell_type": "markdown",
   "metadata": {},
   "source": [
    "# You only showed me two plots on data frames!\n",
    "\n",
    "Most of the plots we learned for Series do sensible things for DataFrames.  I encourage you to guess what they do before experimenting yourself to find out.\n",
    "\n",
    "# Exercise - many plots at once\n",
    "\n",
    "Use a box plot directoy on the data frame your get from loading the `iris` data set.  Before you do it, make a guess about what it will do.  Did the plot match your expectations?  Based on what you see, without looking up the documentation, can you describe what `plot(kind=\"box\")` does when used on data frame instead of a series?  After you do it once, go back and remove that outlier we found in the last class and plot it again.  The outlier that was hard to find in the table is very obvious in the box plot."
   ]
  },
  {
   "cell_type": "code",
   "execution_count": null,
   "metadata": {},
   "outputs": [],
   "source": [
    "# box plot the whole frame"
   ]
  },
  {
   "cell_type": "markdown",
   "metadata": {},
   "source": [
    "# Plotting more than one thing\n",
    "\n",
    "You can \"capture\" a reference to a plot and then add new plots to it.  The length of the axis will automatically grow to accomodate the new data.  To add a new plot to an existing plot, you pass the reference in as an `ax` parameter.  Here are two examples:\n",
    "  * All three species of iris included in the one scatter plot.  We see that \"setosa\" is distinctly different but that all three have a correlation of some sort between width and length\n",
    "  * The cummulative and daily rainfall on one graph. As we expect, the cummulative rises quickly where the daily is high.\n",
    "\n",
    "`ax` is for \"axis\" on which to do this plot."
   ]
  },
  {
   "cell_type": "code",
   "execution_count": null,
   "metadata": {},
   "outputs": [],
   "source": [
    "just_setosa = iris[\"class\"] == \"Iris-setosa\"\n",
    "just_versicolor = iris[\"class\"] == \"Iris-versicolor\"\n",
    "just_virginica = iris[\"class\"] == \"Iris-virginica\"\n",
    "\n",
    "existing_plot = iris[just_setosa].plot(kind=\"scatter\", color=\"Red\", x=\"sepal length\", y=\"sepal width\", label=\"setosa\")\n",
    "iris[just_versicolor].plot(kind=\"scatter\", color=\"Blue\", x=\"sepal length\", y=\"sepal width\", ax=existing_plot, label=\"versicolor\")\n",
    "iris[just_virginica].plot(kind=\"scatter\", color=\"Green\", x=\"sepal length\", y=\"sepal width\", ax=existing_plot, label=\"virginica\")"
   ]
  },
  {
   "cell_type": "code",
   "execution_count": null,
   "metadata": {},
   "outputs": [],
   "source": [
    "rainfall_plot = cummulative_2022.plot()\n",
    "amount_2022.plot(ax=rainfall_plot)"
   ]
  }
 ],
 "metadata": {
  "language_info": {
   "name": "python"
  },
  "orig_nbformat": 4
 },
 "nbformat": 4,
 "nbformat_minor": 2
}
