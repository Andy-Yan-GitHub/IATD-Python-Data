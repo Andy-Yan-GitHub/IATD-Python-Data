{
 "cells": [
  {
   "cell_type": "markdown",
   "metadata": {},
   "source": [
    "The basic operation of `plot` is extended with the `kind` parameter.  For example, here is a an example of a histogram.  Note that histogram will autmatically bucket the data for you!  Thus we automatically get a plot of the number of days with each level of rainfall.  So helpful.\n",
    "\n",
    "By the way, if you are interested in when to use a histogram vs when to use a bar graph - [this page has quite a nice explanation](https://www.storytellingwithdata.com/blog/2021/1/28/histograms-and-bar-charts)"
   ]
  },
  {
   "cell_type": "code",
   "execution_count": null,
   "metadata": {},
   "outputs": [],
   "source": [
    "amount_2022.plot(kind=\"hist\")"
   ]
  },
  {
   "cell_type": "markdown",
   "metadata": {},
   "source": [
    "We should now be on-guard since a single extra parameter has done a power of work for us!  This is OK, but we must know that the `kind` parameter _can do data summarisation for us_.\n",
    "\n",
    "# Exercise - rainfall bar\n",
    "\n",
    "Whether or not it is a good visualistaion, can you work out how to get a bar for each day that shows the rainfall on that day?  `amount_2022` is the Series you want, but what kind of plot will do that?\n"
   ]
  },
  {
   "cell_type": "code",
   "execution_count": null,
   "metadata": {},
   "outputs": [],
   "source": [
    "# put solution here"
   ]
  }
 ],
 "metadata": {
  "kernelspec": {
   "display_name": "Python 3",
   "language": "python",
   "name": "python3"
  },
  "language_info": {
   "name": "python",
   "version": "3.9.2"
  },
  "orig_nbformat": 4
 },
 "nbformat": 4,
 "nbformat_minor": 2
}
