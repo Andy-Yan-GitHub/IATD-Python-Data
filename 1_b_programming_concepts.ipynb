{
 "cells": [
  {
   "attachments": {},
   "cell_type": "markdown",
   "metadata": {},
   "source": [
    "# Learning Outcomes\n",
    "\n",
    "  * Create end use Python variables\n",
    "  * Explain the difference between different python types\n",
    "  * Explain the difference between values, tuples, lists, and dictionaries\n",
    "  * Be able to write a simple program with each data type"
   ]
  },
  {
   "attachments": {},
   "cell_type": "markdown",
   "metadata": {},
   "source": [
    "_Variables_ contain _values_.  Values can be different types\"\n",
    "  * numbers (`int` or `float`)\n",
    "  * text (`str`)\n",
    "  * true/false (`bool`)\n",
    "\n",
    "Python keeps track of the difference between each and we can see the type using a built-in function `type`"
   ]
  },
  {
   "cell_type": "code",
   "execution_count": 6,
   "metadata": {},
   "outputs": [
    {
     "name": "stdout",
     "output_type": "stream",
     "text": [
      "<class 'int'>\n",
      "<class 'float'>\n",
      "<class 'str'>\n",
      "<class 'bool'>\n"
     ]
    }
   ],
   "source": [
    "print(type(1))\n",
    "print(type(1.2))\n",
    "print(type(\"hi there\"))\n",
    "print(type(True))"
   ]
  },
  {
   "attachments": {},
   "cell_type": "markdown",
   "metadata": {},
   "source": [
    "Python also contains types for when you need many values all bundled together.\n",
    "  * a `tuple` is multiple values stuck together\n",
    "  * a `list` is a number of values all in a line\n",
    "  * a `dict`ionary is a list but every value gets a name of its own"
   ]
  },
  {
   "cell_type": "code",
   "execution_count": 7,
   "metadata": {},
   "outputs": [
    {
     "name": "stdout",
     "output_type": "stream",
     "text": [
      "<class 'tuple'>\n",
      "<class 'list'>\n",
      "<class 'dict'>\n"
     ]
    }
   ],
   "source": [
    "print(type((1,2)))\n",
    "print(type([1,2,3]))\n",
    "print(type({\"a\":1, \"b\":2, \"c\":3}))"
   ]
  },
  {
   "attachments": {},
   "cell_type": "markdown",
   "metadata": {},
   "source": [
    "This link will show you some examples of tuples and teach you the syntax they use.  \n",
    "\n",
    "https://www.w3schools.com/python/python_tuples.asp"
   ]
  },
  {
   "attachments": {},
   "cell_type": "markdown",
   "metadata": {},
   "source": [
    "# Activity\n",
    "\n",
    "put the values `1`, `\"a\"` and `True` into a tuple, store it in a variable, then print that variable.  You might need to carefully re-read earlier modules to fully understand what we are asking here.  You will find explanations for each concept."
   ]
  },
  {
   "cell_type": "code",
   "execution_count": 8,
   "metadata": {},
   "outputs": [
    {
     "name": "stdout",
     "output_type": "stream",
     "text": [
      "put your answer here\n"
     ]
    }
   ],
   "source": [
    "print(\"put your answer here\")"
   ]
  },
  {
   "attachments": {},
   "cell_type": "markdown",
   "metadata": {},
   "source": [
    "This link will show you some examples of lists and teach you the syntax they use.  \n",
    "\n",
    "https://www.w3schools.com/python/python_lists.asp"
   ]
  },
  {
   "attachments": {},
   "cell_type": "markdown",
   "metadata": {},
   "source": [
    "# Activity\n",
    "\n",
    "Put the values `1`, `10`, `100`, and `1000` into a list, store that in a variable, then print the value of that variable."
   ]
  },
  {
   "cell_type": "code",
   "execution_count": 9,
   "metadata": {},
   "outputs": [
    {
     "name": "stdout",
     "output_type": "stream",
     "text": [
      "put your answer here\n"
     ]
    }
   ],
   "source": [
    "print(\"put your answer here\")"
   ]
  },
  {
   "attachments": {},
   "cell_type": "markdown",
   "metadata": {},
   "source": [
    "This link will show you some examples of dictionaries and teach you the syntax they use.  \n",
    "\n",
    "https://www.w3schools.com/python/python_dictionaries.asp"
   ]
  },
  {
   "attachments": {},
   "cell_type": "markdown",
   "metadata": {},
   "source": [
    "# Activity\n",
    "\n",
    "Put the values `1`, `10`, `100`, and `1000` into a dictionary, label them \"one\", \"ten\", \"hundred\" and \"thousand\", store that in a variable, then print the value of that variable."
   ]
  },
  {
   "cell_type": "code",
   "execution_count": 10,
   "metadata": {},
   "outputs": [
    {
     "name": "stdout",
     "output_type": "stream",
     "text": [
      "put your answer here\n"
     ]
    }
   ],
   "source": [
    "print(\"put your answer here\")"
   ]
  }
 ],
 "metadata": {
  "kernelspec": {
   "display_name": "Python 3",
   "language": "python",
   "name": "python3"
  },
  "language_info": {
   "codemirror_mode": {
    "name": "ipython",
    "version": 3
   },
   "file_extension": ".py",
   "mimetype": "text/x-python",
   "name": "python",
   "nbconvert_exporter": "python",
   "pygments_lexer": "ipython3",
   "version": "3.11.3"
  },
  "orig_nbformat": 4,
  "vscode": {
   "interpreter": {
    "hash": "9ac03a0a6051494cc606d484d27d20fce22fb7b4d169f583271e11d5ba46a56e"
   }
  }
 },
 "nbformat": 4,
 "nbformat_minor": 2
}
